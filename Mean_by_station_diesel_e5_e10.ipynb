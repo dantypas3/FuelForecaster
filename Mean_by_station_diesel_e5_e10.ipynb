{
 "cells": [
  {
   "cell_type": "code",
   "execution_count": 12,
   "id": "4f3dc87a-1b57-45ae-a109-ce70882b1021",
   "metadata": {},
   "outputs": [],
   "source": [
    "import pandas as pd\n",
    "import glob\n",
    "import numpy as np\n",
    "import os"
   ]
  },
  {
   "cell_type": "markdown",
   "id": "fd1b5ba8-9162-411b-8363-c4ad1b4367d8",
   "metadata": {},
   "source": [
    "**Ημερομηνία εκκίνησης και Path αρχείων**"
   ]
  },
  {
   "cell_type": "code",
   "execution_count": 16,
   "id": "19b90319-458f-4ccb-8d9b-fb33b7237f42",
   "metadata": {},
   "outputs": [],
   "source": [
    "# Path αρχείων\n",
    "data_directory = r\"C:\\Users\\KDrakonakis\\Downloads\\2024\\2024\\12\"\n",
    "\n",
    " # Η ημερομηνία εκκίνησης\n",
    "target_day = \"2024-12-31\""
   ]
  },
  {
   "cell_type": "markdown",
   "id": "7684b597-d44a-4948-8904-83e82982a3bd",
   "metadata": {},
   "source": [
    "***Diesel 3 Days Mean***"
   ]
  },
  {
   "cell_type": "code",
   "execution_count": 14,
   "id": "93d91a18-a575-4e73-919a-90bb7bc23ee6",
   "metadata": {},
   "outputs": [],
   "source": [
    "def calculate_diesel_mean_by_station_threed(data_dir, target_date):\n",
    "\n",
    "    # Μετατροπή της ημερομηνίας που έδωσα σε datetime για να είναι διαχειρίσιμη.\n",
    "    target_date = pd.to_datetime(target_date)\n",
    "    \n",
    "    # Φτιάχνω τη λίστα με τον αριθμό των ημερών που θέλω να επεξεργαστώ. Δηλαδή των τελευταίψν τριών ημερών.\n",
    "    date_range = [(target_date - pd.Timedelta(days=i)).strftime('%Y-%m-%d') for i in range(3)]\n",
    "\n",
    "    # Βρίσκω τα αρχεία που αναφέρονται στο range ημερών που επιθυμώ και ελέγχω για το αν βρέθηκαν τα αρχεία ή όχι.\n",
    "    files_to_read = [f for f in glob.glob(os.path.join(data_dir, '*.csv')) if any(date in f for date in date_range)]\n",
    "\n",
    "    if not files_to_read:\n",
    "        raise ValueError(\"Δεν βρέθηκαν αρχεία για τις τελευταίες 3 ημέρες\")\n",
    "\n",
    "   # Διαβάζω και ενσωματώνω τα δεδομένα σε ένα dataframe. \n",
    "    df_list = [pd.read_csv(file) for file in files_to_read]\n",
    "    three_days_df = pd.concat(df_list, ignore_index=True)\n",
    "\n",
    "   # Μετατροπή της ημερομηνίας σε datetime για να μπορώ να διαχειριστώ τις ημερομηνίες.\n",
    "    three_days_df['date'] = pd.to_datetime(three_days_df['date'], format='%Y-%m-%d %H:%M:%S%z')\n",
    "\n",
    "    # Κρατάω μόνο τις στήλες που χρειάζομαι.\n",
    "    three_days_df = three_days_df[['station_uuid', 'diesel', 'dieselchange']]\n",
    "    \n",
    "    # Εκκαθαρίζω το dataframe σε περίπτωση μη μεταβολής της τιμής.\n",
    "    three_days_df = three_days_df[three_days_df['dieselchange'] == 1]\n",
    "\n",
    "    # Θέτω τη στήλη με τις τιμές ώς float\n",
    "    three_days_df['diesel'] = three_days_df['diesel'].astype(float)\n",
    "\n",
    "    # Υπολογισμός του μέσου όρου της τιμής diesel για κάθε πρατήριο\n",
    "    mean_by_station_threed = three_days_df.groupby('station_uuid')['diesel'].mean()\n",
    "\n",
    "    return mean_by_station_threed"
   ]
  },
  {
   "cell_type": "code",
   "execution_count": 18,
   "id": "127a27ef-3d13-4932-ae3b-8545b701a19b",
   "metadata": {},
   "outputs": [
    {
     "name": "stdout",
     "output_type": "stream",
     "text": [
      "station_uuid\n",
      "00006210-0037-4444-8888-acdc00006210    1.599652\n",
      "00016899-3247-4444-8888-acdc00000007    1.635923\n",
      "00041414-208c-4444-8888-acdc00000414    1.569000\n",
      "00041450-0002-4444-8888-acdc00000002    1.558000\n",
      "00047369-0001-4444-8888-acdc00000001    1.604667\n",
      "                                          ...   \n",
      "ffe9e5f3-1451-4af4-ab59-fdfbf4b9b757    1.608524\n",
      "fff05f62-7e1e-42e4-8d71-6e2c9c963a8b    2.165667\n",
      "fff261ef-ff00-4d2b-8669-ec2f7c57cd93    1.605400\n",
      "fffb0617-e77d-48dd-838c-f43a945f6f70    1.648225\n",
      "fffd3828-c4e3-1035-8eef-40618651be9a    1.555923\n",
      "Name: diesel, Length: 14443, dtype: float64\n"
     ]
    }
   ],
   "source": [
    "mean_diesel_by_station_threed = calculate_diesel_mean_by_station_threed(data_directory, target_day)\n",
    "print(mean_diesel_by_station_threed)\n"
   ]
  },
  {
   "cell_type": "markdown",
   "id": "e89af284-f77e-487b-ad4d-af5aab8d20a4",
   "metadata": {},
   "source": [
    "***Diesel 5 Days Mean***"
   ]
  },
  {
   "cell_type": "code",
   "execution_count": 31,
   "id": "768a7902-ec43-4cd5-80b8-d8b6d8423a96",
   "metadata": {},
   "outputs": [],
   "source": [
    "def calculate_diesel_mean_by_station_fived(data_dir, target_date):\n",
    "\n",
    "    target_date = pd.to_datetime(target_date)\n",
    "    \n",
    "    # Πρέπει να αλλάξω το range σε σχέση με τον παραπάνω κώδικα, έτσι ώστε να υπολογίσει για 5 μέρες.\n",
    "    date_range = [(target_date - pd.Timedelta(days=i)).strftime('%Y-%m-%d') for i in range(5)]\n",
    "\n",
    "    files_to_read = [f for f in glob.glob(os.path.join(data_dir, '*.csv')) if any(date in f for date in date_range)]\n",
    "    if not files_to_read:\n",
    "        raise ValueError(\"Δεν βρέθηκαν αρχεία για τις τελευταίες 3 ημέρες\")\n",
    " \n",
    "    df_list = [pd.read_csv(file) for file in files_to_read]\n",
    "    five_days_df = pd.concat(df_list, ignore_index=True)\n",
    "\n",
    "    five_days_df['date'] = pd.to_datetime(five_days_df['date'], format='%Y-%m-%d %H:%M:%S%z')\n",
    "\n",
    "    five_days_df = five_days_df[['station_uuid', 'diesel', 'dieselchange']]\n",
    "    \n",
    "    five_days_df = five_days_df[five_days_df['dieselchange'] == 1]\n",
    "\n",
    "    five_days_df['diesel'] = five_days_df['diesel'].astype(float)\n",
    "\n",
    "    mean_by_station_fived = five_days_df.groupby('station_uuid')['diesel'].mean()\n",
    "\n",
    "    return mean_by_station_fived"
   ]
  },
  {
   "cell_type": "code",
   "execution_count": 33,
   "id": "4bf1688f-403f-4844-bc54-613a04504ce9",
   "metadata": {},
   "outputs": [
    {
     "name": "stdout",
     "output_type": "stream",
     "text": [
      "station_uuid\n",
      "00006210-0037-4444-8888-acdc00006210    1.600042\n",
      "00016899-3247-4444-8888-acdc00000007    1.630739\n",
      "00041414-208c-4444-8888-acdc00000414    1.549000\n",
      "00041450-0002-4444-8888-acdc00000002    1.543000\n",
      "00047369-0001-4444-8888-acdc00000001    1.612286\n",
      "                                          ...   \n",
      "ffe9e5f3-1451-4af4-ab59-fdfbf4b9b757    1.607125\n",
      "fff05f62-7e1e-42e4-8d71-6e2c9c963a8b    2.165667\n",
      "fff261ef-ff00-4d2b-8669-ec2f7c57cd93    1.605905\n",
      "fffb0617-e77d-48dd-838c-f43a945f6f70    1.642410\n",
      "fffd3828-c4e3-1035-8eef-40618651be9a    1.553545\n",
      "Name: diesel, Length: 14600, dtype: float64\n"
     ]
    }
   ],
   "source": [
    "mean_diesel_by_station_fived = calculate_diesel_mean_by_station_fived(data_directory, target_day)\n",
    "print(mean_diesel_by_station_fived)\n"
   ]
  },
  {
   "cell_type": "markdown",
   "id": "346da6c5-bc5b-45ee-bbef-048a6f19fbac",
   "metadata": {},
   "source": [
    "***Diesel 7 Days Mean***"
   ]
  },
  {
   "cell_type": "code",
   "execution_count": 42,
   "id": "d5ee39b0-673f-4fcb-a779-539826ddc689",
   "metadata": {},
   "outputs": [],
   "source": [
    "def calculate_diesel_mean_by_station_sevend(data_dir, target_date):\n",
    "\n",
    "    target_date = pd.to_datetime(target_date)\n",
    "    \n",
    "    # Πρέπει να αλλάξω το range σε σχέση με τον παραπάνω κώδικα, έτσι ώστε να υπολογίσει για 7 μέρες.\n",
    "    date_range = [(target_date - pd.Timedelta(days=i)).strftime('%Y-%m-%d') for i in range(7)]\n",
    "\n",
    "    files_to_read = [f for f in glob.glob(os.path.join(data_dir, '*.csv')) if any(date in f for date in date_range)]\n",
    "    if not files_to_read:\n",
    "        raise ValueError(\"Δεν βρέθηκαν αρχεία για τις τελευταίες 3 ημέρες\")\n",
    " \n",
    "    df_list = [pd.read_csv(file) for file in files_to_read]\n",
    "    seven_days_df = pd.concat(df_list, ignore_index=True)\n",
    "\n",
    "    seven_days_df['date'] = pd.to_datetime(seven_days_df['date'], format='%Y-%m-%d %H:%M:%S%z')\n",
    "\n",
    "    seven_days_df = seven_days_df[['station_uuid', 'diesel', 'dieselchange']]\n",
    "    \n",
    "    seven_days_df = seven_days_df[seven_days_df['dieselchange'] == 1]\n",
    "\n",
    "    seven_days_df['diesel'] = seven_days_df['diesel'].astype(float)\n",
    "\n",
    "    mean_by_station_sevend = seven_days_df.groupby('station_uuid')['diesel'].mean()\n",
    "\n",
    "    return mean_by_station_sevend"
   ]
  },
  {
   "cell_type": "code",
   "execution_count": 44,
   "id": "da7fe599-d2e8-444d-8bed-d2eb50dad05b",
   "metadata": {},
   "outputs": [
    {
     "name": "stdout",
     "output_type": "stream",
     "text": [
      "station_uuid\n",
      "00006210-0037-4444-8888-acdc00006210    1.598800\n",
      "00016899-3247-4444-8888-acdc00000007    1.627438\n",
      "00041414-208c-4444-8888-acdc00000414    1.549000\n",
      "00041450-0002-4444-8888-acdc00000002    1.543000\n",
      "00047369-0001-4444-8888-acdc00000001    1.612286\n",
      "                                          ...   \n",
      "ffe9e5f3-1451-4af4-ab59-fdfbf4b9b757    1.606143\n",
      "fff05f62-7e1e-42e4-8d71-6e2c9c963a8b    2.165667\n",
      "fff261ef-ff00-4d2b-8669-ec2f7c57cd93    1.604781\n",
      "fffb0617-e77d-48dd-838c-f43a945f6f70    1.643258\n",
      "fffd3828-c4e3-1035-8eef-40618651be9a    1.552333\n",
      "Name: diesel, Length: 14614, dtype: float64\n"
     ]
    }
   ],
   "source": [
    "mean_diesel_by_station_sevend = calculate_diesel_mean_by_station_sevend(data_directory, target_day)\n",
    "print(mean_diesel_by_station_sevend)"
   ]
  }
 ],
 "metadata": {
  "kernelspec": {
   "display_name": "Python 3 (ipykernel)",
   "language": "python",
   "name": "python3"
  },
  "language_info": {
   "codemirror_mode": {
    "name": "ipython",
    "version": 3
   },
   "file_extension": ".py",
   "mimetype": "text/x-python",
   "name": "python",
   "nbconvert_exporter": "python",
   "pygments_lexer": "ipython3",
   "version": "3.12.3"
  }
 },
 "nbformat": 4,
 "nbformat_minor": 5
}
