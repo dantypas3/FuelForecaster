{
 "cells": [
  {
   "cell_type": "code",
   "id": "initial_id",
   "metadata": {
    "collapsed": true,
    "ExecuteTime": {
     "end_time": "2025-03-06T00:54:02.970520Z",
     "start_time": "2025-03-06T00:54:02.739056Z"
    }
   },
   "source": [
    "import requests\n",
    "import pandas as pd\n",
    "from datetime import datetime\n",
    "from sklearn.preprocessing import LabelEncoder\n",
    "from sklearn.metrics import mean_squared_error, mean_absolute_error\n",
    "import joblib\n",
    "\n",
    "key = ''  #Add your API Key from tankerkönig.de. See https://creativecommons.tankerkoenig.de/\n",
    "url = 'https://creativecommons.tankerkoenig.de/json/'\n",
    "\n",
    "url_new = f\"{url}list.php\"\n",
    "params = {\n",
    "    \"apikey\": key,\n",
    "    \"lat\": 52.515087638402385,\n",
    "    \"lng\": 13.40686979530763,\n",
    "    \"rad\": 20,\n",
    "    \"type\": 'all'\n",
    "}\n",
    "\n",
    "response = requests.get(url_new, params=params)\n",
    "data = response.json()\n",
    "df_normal = pd.json_normalize(data['stations'], max_level=1)\n",
    "df_normal['date'] = pd.to_datetime(datetime.now())\n",
    "df_normal['hour'] = df_normal['date'].dt.hour\n",
    "df_normal['day'] = 3\n",
    "df_normal['month'] = 3\n",
    "df_normal['weekday'] = 1\n",
    "df_normal['year'] = 2025\n",
    "df_normal.drop(columns=['date'], inplace=True)\n",
    "df_normal = df_normal.dropna()\n",
    "\n",
    "encoder = LabelEncoder()\n",
    "df_normal['station_id_encoded'] = encoder.fit_transform(df_normal['id'])"
   ],
   "outputs": [],
   "execution_count": 20
  },
  {
   "metadata": {
    "ExecuteTime": {
     "end_time": "2025-03-06T00:54:04.063742Z",
     "start_time": "2025-03-06T00:54:04.059705Z"
    }
   },
   "cell_type": "code",
   "source": [
    "import numpy as np\n",
    "\n",
    "# Compute cyclical features for the current hour\n",
    "df_normal['hour_sin'] = np.sin(2 * np.pi * df_normal['hour'] / 24)\n",
    "df_normal['hour_cos'] = np.cos(2 * np.pi * df_normal['hour'] / 24)\n",
    "\n",
    "# For demonstration, we use the current E5 price as a placeholder for lag features and rolling averages.\n",
    "# In a real scenario, merge with historical data to compute these accurately.\n",
    "df_normal['e5_lag_1'] = df_normal['e5']\n",
    "df_normal['e5_lag_3'] = df_normal['e5']\n",
    "df_normal['e5_lag_7'] = df_normal['e5']\n",
    "df_normal['e5_7d_avg'] = df_normal['e5']\n",
    "df_normal['e5_volatility'] = 0.0  # Without historical changes, volatility is unknown\n",
    "\n",
    "# Oil-related features should be obtained from your oil dataset or forecast.\n",
    "# For now, we use placeholder values (e.g., the most recent known oil price).\n",
    "placeholder_oil_price = 70.0  # example placeholder value\n",
    "df_normal['oil_price'] = placeholder_oil_price\n",
    "df_normal['oil_7d_avg'] = placeholder_oil_price"
   ],
   "id": "28cb5cdd7b80f18f",
   "outputs": [],
   "execution_count": 21
  },
  {
   "metadata": {
    "ExecuteTime": {
     "end_time": "2025-03-06T00:54:07.346416Z",
     "start_time": "2025-03-06T00:54:05.175634Z"
    }
   },
   "cell_type": "code",
   "source": [
    "import joblib\n",
    "\n",
    "# Load your trained model\n",
    "model = joblib.load('models/xgbr_trained.pkl')\n",
    "\n",
    "# Define the feature columns (make sure these match the model training)\n",
    "feature_cols = ['hour_sin', 'hour_cos', 'station_id_encoded', 'e5_7d_avg',\n",
    "                'oil_price', 'oil_7d_avg', 'e5_volatility', 'e5_lag_1',\n",
    "                'e5_lag_3', 'e5_lag_7']\n",
    "\n",
    "# Make predictions for each station in today's data\n",
    "df_normal['predicted_e5'] = model.predict(df_normal[feature_cols])\n"
   ],
   "id": "4dfa462bca8ace61",
   "outputs": [],
   "execution_count": 22
  },
  {
   "metadata": {
    "ExecuteTime": {
     "end_time": "2025-03-06T00:54:08.458074Z",
     "start_time": "2025-03-06T00:54:08.452612Z"
    }
   },
   "cell_type": "code",
   "source": [
    "from scipy.stats import pearsonr\n",
    "\n",
    "# Calculate Pearson correlation between actual and predicted E5 prices\n",
    "corr, p_value = pearsonr(df_normal['e5'], df_normal['predicted_e5'])\n",
    "print(\"Pearson correlation:\", corr)\n",
    "print(\"P-value:\", p_value)"
   ],
   "id": "3e5bc24c53532bba",
   "outputs": [
    {
     "name": "stdout",
     "output_type": "stream",
     "text": [
      "Pearson correlation: 0.9674667293549281\n",
      "P-value: 1.6678300360363316e-183\n"
     ]
    }
   ],
   "execution_count": 23
  },
  {
   "metadata": {
    "ExecuteTime": {
     "end_time": "2025-03-06T00:54:42.005989Z",
     "start_time": "2025-03-06T00:54:42.001291Z"
    }
   },
   "cell_type": "code",
   "source": [
    "compare_df = pd.DataFrame({\n",
    "    \"ID\": df_normal['id'],\n",
    "    \"Predicted e5\": df_normal['predicted_e5'],\n",
    "    \"Actual e5\": df_normal['e5'],\n",
    "})\n",
    "compare_df"
   ],
   "id": "82cff7e3599cf862",
   "outputs": [
    {
     "data": {
      "text/plain": [
       "                                       ID  Predicted e5  Actual e5\n",
       "0    278130b1-e062-4a0f-80cc-19e486b4c024      1.784859      1.779\n",
       "1    594eafdd-3537-45ae-8bf0-d667aaa25454      1.771862      1.759\n",
       "2    813ed58c-b58d-4d17-895b-2078cb302649      1.809665      1.799\n",
       "3    94e70fc4-b22f-4e5a-877f-bc1082cdae81      1.715955      1.719\n",
       "4    448e4ee6-3404-4868-b7e6-ea59a5c78eb9      1.784859      1.779\n",
       "..                                    ...           ...        ...\n",
       "304  34b4ac1b-77af-481c-88b5-237921f4eb7c      1.708074      1.699\n",
       "305  cd8ba6a6-98cd-1ed7-9c96-62f66643d7be      1.725098      1.729\n",
       "306  005056ba-7cb6-1ed2-bceb-662ba1a94d1f      1.962691      1.929\n",
       "307  ce241717-83a0-1ee9-8194-53855ba71417      1.725098      1.729\n",
       "308  f0976214-5807-4a45-8e11-6f936a7e97ad      1.796609      1.789\n",
       "\n",
       "[306 rows x 3 columns]"
      ],
      "text/html": [
       "<div>\n",
       "<style scoped>\n",
       "    .dataframe tbody tr th:only-of-type {\n",
       "        vertical-align: middle;\n",
       "    }\n",
       "\n",
       "    .dataframe tbody tr th {\n",
       "        vertical-align: top;\n",
       "    }\n",
       "\n",
       "    .dataframe thead th {\n",
       "        text-align: right;\n",
       "    }\n",
       "</style>\n",
       "<table border=\"1\" class=\"dataframe\">\n",
       "  <thead>\n",
       "    <tr style=\"text-align: right;\">\n",
       "      <th></th>\n",
       "      <th>ID</th>\n",
       "      <th>Predicted e5</th>\n",
       "      <th>Actual e5</th>\n",
       "    </tr>\n",
       "  </thead>\n",
       "  <tbody>\n",
       "    <tr>\n",
       "      <th>0</th>\n",
       "      <td>278130b1-e062-4a0f-80cc-19e486b4c024</td>\n",
       "      <td>1.784859</td>\n",
       "      <td>1.779</td>\n",
       "    </tr>\n",
       "    <tr>\n",
       "      <th>1</th>\n",
       "      <td>594eafdd-3537-45ae-8bf0-d667aaa25454</td>\n",
       "      <td>1.771862</td>\n",
       "      <td>1.759</td>\n",
       "    </tr>\n",
       "    <tr>\n",
       "      <th>2</th>\n",
       "      <td>813ed58c-b58d-4d17-895b-2078cb302649</td>\n",
       "      <td>1.809665</td>\n",
       "      <td>1.799</td>\n",
       "    </tr>\n",
       "    <tr>\n",
       "      <th>3</th>\n",
       "      <td>94e70fc4-b22f-4e5a-877f-bc1082cdae81</td>\n",
       "      <td>1.715955</td>\n",
       "      <td>1.719</td>\n",
       "    </tr>\n",
       "    <tr>\n",
       "      <th>4</th>\n",
       "      <td>448e4ee6-3404-4868-b7e6-ea59a5c78eb9</td>\n",
       "      <td>1.784859</td>\n",
       "      <td>1.779</td>\n",
       "    </tr>\n",
       "    <tr>\n",
       "      <th>...</th>\n",
       "      <td>...</td>\n",
       "      <td>...</td>\n",
       "      <td>...</td>\n",
       "    </tr>\n",
       "    <tr>\n",
       "      <th>304</th>\n",
       "      <td>34b4ac1b-77af-481c-88b5-237921f4eb7c</td>\n",
       "      <td>1.708074</td>\n",
       "      <td>1.699</td>\n",
       "    </tr>\n",
       "    <tr>\n",
       "      <th>305</th>\n",
       "      <td>cd8ba6a6-98cd-1ed7-9c96-62f66643d7be</td>\n",
       "      <td>1.725098</td>\n",
       "      <td>1.729</td>\n",
       "    </tr>\n",
       "    <tr>\n",
       "      <th>306</th>\n",
       "      <td>005056ba-7cb6-1ed2-bceb-662ba1a94d1f</td>\n",
       "      <td>1.962691</td>\n",
       "      <td>1.929</td>\n",
       "    </tr>\n",
       "    <tr>\n",
       "      <th>307</th>\n",
       "      <td>ce241717-83a0-1ee9-8194-53855ba71417</td>\n",
       "      <td>1.725098</td>\n",
       "      <td>1.729</td>\n",
       "    </tr>\n",
       "    <tr>\n",
       "      <th>308</th>\n",
       "      <td>f0976214-5807-4a45-8e11-6f936a7e97ad</td>\n",
       "      <td>1.796609</td>\n",
       "      <td>1.789</td>\n",
       "    </tr>\n",
       "  </tbody>\n",
       "</table>\n",
       "<p>306 rows × 3 columns</p>\n",
       "</div>"
      ]
     },
     "execution_count": 24,
     "metadata": {},
     "output_type": "execute_result"
    }
   ],
   "execution_count": 24
  },
  {
   "metadata": {
    "ExecuteTime": {
     "end_time": "2025-03-06T00:56:53.682795Z",
     "start_time": "2025-03-06T00:56:53.679912Z"
    }
   },
   "cell_type": "code",
   "source": [
    "from sklearn.metrics import mean_squared_error, mean_absolute_error\n",
    "mse = mean_squared_error(df_normal['e5'], df_normal['predicted_e5'])\n",
    "mse"
   ],
   "id": "46fc88c630123136",
   "outputs": [
    {
     "data": {
      "text/plain": [
       "0.0009676815129040317"
      ]
     },
     "execution_count": 27,
     "metadata": {},
     "output_type": "execute_result"
    }
   ],
   "execution_count": 27
  },
  {
   "metadata": {
    "ExecuteTime": {
     "end_time": "2025-03-06T00:55:45.438423Z",
     "start_time": "2025-03-06T00:55:45.229216Z"
    }
   },
   "cell_type": "code",
   "source": [
    "import xgboost as xgb\n",
    "import matplotlib.pyplot as plt\n",
    "xgb.plot_importance(model)\n",
    "plt.show()"
   ],
   "id": "daf69b78de25bde6",
   "outputs": [
    {
     "data": {
      "text/plain": [
       "<Figure size 640x480 with 1 Axes>"
      ],
      "image/png": "[encoded data removed]"
     },
     "metadata": {},
     "output_type": "display_data"
    }
   ],
   "execution_count": 26
  }
 ],
 "metadata": {
  "kernelspec": {
   "display_name": "Python 3",
   "language": "python",
   "name": "python3"
  },
  "language_info": {
   "codemirror_mode": {
    "name": "ipython",
    "version": 2
   },
   "file_extension": ".py",
   "mimetype": "text/x-python",
   "name": "python",
   "nbconvert_exporter": "python",
   "pygments_lexer": "ipython2",
   "version": "2.7.6"
  }
 },
 "nbformat": 4,
 "nbformat_minor": 5
}
